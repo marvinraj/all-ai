{
 "cells": [
  {
   "cell_type": "markdown",
   "metadata": {},
   "source": [
    "## SALES ANALYSIS"
   ]
  },
  {
   "cell_type": "markdown",
   "metadata": {},
   "source": [
    "##### Import Libraries"
   ]
  },
  {
   "cell_type": "code",
   "execution_count": 8,
   "metadata": {},
   "outputs": [],
   "source": [
    "import pandas as pd\n",
    "import os"
   ]
  },
  {
   "cell_type": "markdown",
   "metadata": {},
   "source": [
    "##### Task 1 - merge the 12 months of data into a single csv file"
   ]
  },
  {
   "cell_type": "code",
   "execution_count": 12,
   "metadata": {},
   "outputs": [],
   "source": [
    "# READING A FILE OF DATA\n",
    "df = pd.read_csv(\"./sales_data/Sales_April_2019.csv\")\n",
    "\n",
    "# cCONCATENATING FILES\n",
    "# -- storing file names from a directory in a list\n",
    "files = [file for file in os.listdir('./sales_data')]\n",
    "\n",
    "# -- create an empty dataframe\n",
    "all_months_data = pd.DataFrame()\n",
    "\n",
    "# -- a for loop to concatenate all 12 files into a new file\n",
    "for file in files:\n",
    "    df = pd.read_csv('./sales_data/'+file)\n",
    "    # all_months_data = all_months_data.append(df) -- another way to concat\n",
    "    all_months_data = pd.concat([all_months_data, df])\n",
    "\n",
    "# -- saving the dataframe into new csv file\n",
    "all_months_data.to_csv(\"all_data.csv\", index=False)"
   ]
  },
  {
   "cell_type": "code",
   "execution_count": null,
   "metadata": {},
   "outputs": [],
   "source": [
    "# -- read updated dataframe\n",
    "all_data = pd.read_csv(\"all_data.csv\")\n",
    "all_data.head()"
   ]
  }
 ],
 "metadata": {
  "kernelspec": {
   "display_name": "Python 3",
   "language": "python",
   "name": "python3"
  },
  "language_info": {
   "codemirror_mode": {
    "name": "ipython",
    "version": 3
   },
   "file_extension": ".py",
   "mimetype": "text/x-python",
   "name": "python",
   "nbconvert_exporter": "python",
   "pygments_lexer": "ipython3",
   "version": "3.11.4"
  }
 },
 "nbformat": 4,
 "nbformat_minor": 2
}
